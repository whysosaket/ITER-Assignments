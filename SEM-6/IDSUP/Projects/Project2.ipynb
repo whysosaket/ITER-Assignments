{
 "cells": [
  {
   "cell_type": "code",
   "execution_count": 1,
   "metadata": {},
   "outputs": [],
   "source": [
    "import matplotlib.pyplot as plt"
   ]
  },
  {
   "cell_type": "code",
   "execution_count": 2,
   "metadata": {},
   "outputs": [],
   "source": [
    "users=[\n",
    "    {'id':0,'name':'Ashok'},\n",
    "    {'id':1, 'name':'Rahul'},\n",
    "    {'id':2, 'name':'Sarita'},\n",
    "    {'id':3, 'name':'Rohan'},\n",
    "    {'id':4, 'name':'Akhaya'},\n",
    "    {'id':5, 'name':'Prakash'},\n",
    "    {'id':6, 'name':'Madhabi'},\n",
    "    {'id':7, 'name':'Spandan'}\n",
    "   \n",
    "    ]"
   ]
  },
  {
   "cell_type": "code",
   "execution_count": 3,
   "metadata": {},
   "outputs": [],
   "source": [
    "interests=[(0,'python'),(0,'java'),(1,'java'),(2,'python'),(2,'java'),(3,'python'),(4,'c'),(5,'c'),\n",
    "           (6,'python'),(7,'java')]"
   ]
  },
  {
   "cell_type": "markdown",
   "metadata": {},
   "source": [
    "1.⁠ ⁠Find the list of user ids by interest <br>\n",
    "2.⁠ ⁠Find the list of interests by user id <br>\n",
    "3.⁠ ⁠Find who has the most interest in common with a given user. <br>"
   ]
  },
  {
   "cell_type": "code",
   "execution_count": 9,
   "metadata": {},
   "outputs": [
    {
     "name": "stdout",
     "output_type": "stream",
     "text": [
      "{'python': [0, 2, 3, 6], 'java': [0, 1, 2, 7], 'c': [4, 5]}\n",
      "{0: ['python', 'java'], 1: ['java'], 2: ['python', 'java'], 3: ['python'], 4: ['c'], 5: ['c'], 6: ['python'], 7: ['java']}\n"
     ]
    }
   ],
   "source": [
    "# Reverse Dictionary\n",
    "lang_dict = {}\n",
    "user_dict = {}\n",
    "\n",
    "for interest in interests:\n",
    "    lang_dict[interest[1]] = []\n",
    "    user_dict[interest[0]] = []\n",
    "    \n",
    "for interest in interests:\n",
    "    lang_dict[interest[1]].append(interest[0])\n",
    "    user_dict[interest[0]].append(interest[1])\n",
    "\n",
    "print(lang_dict)\n",
    "print(user_dict)"
   ]
  },
  {
   "cell_type": "code",
   "execution_count": null,
   "metadata": {},
   "outputs": [],
   "source": [
    "def most_common_interest(user):\n",
    "    "
   ]
  }
 ],
 "metadata": {
  "kernelspec": {
   "display_name": "Python 3",
   "language": "python",
   "name": "python3"
  },
  "language_info": {
   "codemirror_mode": {
    "name": "ipython",
    "version": 3
   },
   "file_extension": ".py",
   "mimetype": "text/x-python",
   "name": "python",
   "nbconvert_exporter": "python",
   "pygments_lexer": "ipython3",
   "version": "3.11.1"
  }
 },
 "nbformat": 4,
 "nbformat_minor": 2
}
