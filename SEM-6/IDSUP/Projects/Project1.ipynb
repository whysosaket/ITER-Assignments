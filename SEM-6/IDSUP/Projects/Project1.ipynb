{
 "cells": [
  {
   "cell_type": "code",
   "execution_count": 1,
   "metadata": {},
   "outputs": [],
   "source": [
    "import matplotlib.pyplot as plt"
   ]
  },
  {
   "cell_type": "code",
   "execution_count": 2,
   "metadata": {},
   "outputs": [],
   "source": [
    "users = [\n",
    "    { \"id\": 0, \"name\": \"Hero\" },\n",
    "    { \"id\": 1, \"name\": \"Dunn\" },\n",
    "    { \"id\": 2, \"name\": \"Sue\" },\n",
    "    { \"id\": 3, \"name\": \"Chi\" },\n",
    "    { \"id\": 4, \"name\": \"Thor\" },\n",
    "    { \"id\": 5, \"name\": \"Clive\" },\n",
    "    { \"id\": 6, \"name\": \"Hicks\" },\n",
    "    { \"id\": 7, \"name\": \"Devin\" },\n",
    "    { \"id\": 8, \"name\": \"Kate\" },\n",
    "    { \"id\": 9, \"name\": \"Klein\" },\n",
    "   \n",
    "]"
   ]
  },
  {
   "cell_type": "code",
   "execution_count": 3,
   "metadata": {},
   "outputs": [],
   "source": [
    "friendship_pairs = [(0, 1), (0, 2), (1, 2), (1, 3), (2, 3), (3, 4), (4, 5), (5, 6), (5, 7), (6, 8), (7, 8), (8, 9)]"
   ]
  },
  {
   "cell_type": "markdown",
   "metadata": {},
   "source": [
    "1.⁠ ⁠Creation of DataSciencester Network <br>\n",
    "2.⁠ ⁠Find the total number of connections and average connections of the network <br>\n",
    "3.⁠ ⁠Sort from “most friends” to “least friends” <br>\n",
    "4.⁠ ⁠Find the friends of friends <br>"
   ]
  },
  {
   "cell_type": "code",
   "execution_count": 11,
   "metadata": {},
   "outputs": [],
   "source": [
    "for user in users:\n",
    "    user[\"friends\"] = []\n",
    "    user[\"fof\"] = []\n",
    "\n",
    "for fp in friendship_pairs:\n",
    "   users[fp[0]][\"friends\"].append(fp[1])\n",
    "   users[fp[1]][\"friends\"].append(fp[0])"
   ]
  },
  {
   "cell_type": "code",
   "execution_count": 12,
   "metadata": {},
   "outputs": [
    {
     "name": "stdout",
     "output_type": "stream",
     "text": [
      "24 2.4\n"
     ]
    }
   ],
   "source": [
    "total_connections = 0\n",
    "\n",
    "for user in users:\n",
    "    total_connections += len(user[\"friends\"])\n",
    "    \n",
    "avg_connection = total_connections/len(users)\n",
    "\n",
    "print(total_connections, avg_connection)"
   ]
  },
  {
   "cell_type": "code",
   "execution_count": null,
   "metadata": {},
   "outputs": [],
   "source": []
  },
  {
   "cell_type": "code",
   "execution_count": 13,
   "metadata": {},
   "outputs": [
    {
     "name": "stdout",
     "output_type": "stream",
     "text": [
      "[('Dunn', 3), ('Sue', 3), ('Chi', 3), ('Clive', 3), ('Kate', 3), ('Hero', 2), ('Thor', 2), ('Hicks', 2), ('Devin', 2), ('Klein', 1)]\n"
     ]
    }
   ],
   "source": [
    "# Sort from most to least friends\n",
    "names = []\n",
    "for user in users:\n",
    "    names.append(tuple([user[\"name\"],len(user[\"friends\"])]))\n",
    "\n",
    "names.sort(key=lambda x: x[1], reverse=True)\n",
    "print(names)"
   ]
  },
  {
   "cell_type": "code",
   "execution_count": 22,
   "metadata": {},
   "outputs": [
    {
     "name": "stdout",
     "output_type": "stream",
     "text": [
      "[{'id': 0, 'name': 'Hero', 'friends': [1, 2], 'fof': {1, 2, 3}}, {'id': 1, 'name': 'Dunn', 'friends': [0, 2, 3], 'fof': {0, 2, 3, 4}}, {'id': 2, 'name': 'Sue', 'friends': [0, 1, 3], 'fof': {0, 1, 3, 4}}, {'id': 3, 'name': 'Chi', 'friends': [1, 2, 4], 'fof': {0, 1, 2, 5}}, {'id': 4, 'name': 'Thor', 'friends': [3, 5], 'fof': {1, 2, 6, 7}}, {'id': 5, 'name': 'Clive', 'friends': [4, 6, 7], 'fof': {8, 3}}, {'id': 6, 'name': 'Hicks', 'friends': [5, 8], 'fof': {9, 4, 7}}, {'id': 7, 'name': 'Devin', 'friends': [5, 8], 'fof': {9, 4, 6}}, {'id': 8, 'name': 'Kate', 'friends': [6, 7, 9], 'fof': {5}}, {'id': 9, 'name': 'Klein', 'friends': [8], 'fof': {6, 7}}]\n"
     ]
    }
   ],
   "source": [
    "# Friends of friends\n",
    "for user in users:\n",
    "    fof_set = set()\n",
    "    fof_set.update(user[\"friends\"])\n",
    "\n",
    "print(users)"
   ]
  }
 ],
 "metadata": {
  "kernelspec": {
   "display_name": "Python 3",
   "language": "python",
   "name": "python3"
  },
  "language_info": {
   "codemirror_mode": {
    "name": "ipython",
    "version": 3
   },
   "file_extension": ".py",
   "mimetype": "text/x-python",
   "name": "python",
   "nbconvert_exporter": "python",
   "pygments_lexer": "ipython3",
   "version": "3.11.1"
  }
 },
 "nbformat": 4,
 "nbformat_minor": 2
}
