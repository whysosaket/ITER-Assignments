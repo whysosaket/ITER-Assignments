{
 "cells": [
  {
   "cell_type": "code",
   "execution_count": 1,
   "metadata": {},
   "outputs": [],
   "source": [
    "from matplotlib import pyplot as plt"
   ]
  },
  {
   "cell_type": "markdown",
   "metadata": {},
   "source": [
    "### Question 1"
   ]
  },
  {
   "cell_type": "code",
   "execution_count": 18,
   "metadata": {},
   "outputs": [
    {
     "name": "stdout",
     "output_type": "stream",
     "text": [
      "Tenure Bucket:  <2 Average Salary:  48000.0\n",
      "Tenure Bucket:  2-5 Average Salary:  61500.0\n",
      "Tenure Bucket:  >5 Average Salary:  79166.67\n"
     ]
    }
   ],
   "source": [
    "salaries_and_tenures = [(83000, 8.7), (88000, 8.1), (48000, 0.7), (76000, 6), (69000, 6.5), (76000, 7.5), (60000, 2.5), (83000, 10), (48000, 1.9), (63000, 4.2)]\n",
    "\n",
    "salaries_by_tenure = {\"<2\": [], \"2-5\": [], \">5\": []}\n",
    "for salary, tenure in salaries_and_tenures:\n",
    "    if tenure not in salaries_by_tenure:\n",
    "        salaries_by_tenure[tenure] = []\n",
    "    if tenure < 2:\n",
    "        salaries_by_tenure[\"<2\"].append(salary)\n",
    "    elif tenure > 2 and tenure < 5:\n",
    "        salaries_by_tenure[\"2-5\"].append(salary)\n",
    "    else:\n",
    "        salaries_by_tenure[\">5\"].append(salary)\n",
    "\n",
    "average_salary_by_tenure = {}\n",
    "for tenure, salaries in salaries_by_tenure.items():\n",
    "    if salaries != []:\n",
    "        average_salary_by_tenure[tenure] = sum(salaries) / len(salaries)\n",
    "\n",
    "for key, value in average_salary_by_tenure.items():\n",
    "    print(\"Tenure Bucket: \",key,\"Average Salary: \",value.__round__(2))\n",
    "\n",
    "# plt.plot(average_salary_by_tenure.keys(), average_salary_by_tenure.values())\n",
    "# plt.xlabel('Years of Experience')\n",
    "# plt.ylabel('Average Salary')\n",
    "# plt.title('Average Salary by Tenure')\n",
    "# plt.show()"
   ]
  },
  {
   "cell_type": "markdown",
   "metadata": {},
   "source": [
    "### Question 2"
   ]
  },
  {
   "cell_type": "code",
   "execution_count": null,
   "metadata": {},
   "outputs": [],
   "source": []
  },
  {
   "cell_type": "markdown",
   "metadata": {},
   "source": [
    "### Question 3"
   ]
  },
  {
   "cell_type": "code",
   "execution_count": null,
   "metadata": {},
   "outputs": [],
   "source": [
    "# i. all() and any() -> all() returns True if all elements in the iterable are True, any() returns True if at least one element in the iterable is True\n",
    "# ii. __str__ and __repr__ function -> __str__ is used to print the string representation of the object, __repr__ is used to print the object representation of the object\n",
    "# iii. sort and sorted -> sort() sorts the list in place, sorted() returns a new sorted list without modifying the original list\n",
    "# iv. random.choice and random.sample -> random.choice() returns a single random element from the list, random.sample() returns a list of k unique random elements from the list"
   ]
  },
  {
   "cell_type": "markdown",
   "metadata": {},
   "source": [
    "### Question 4"
   ]
  },
  {
   "cell_type": "code",
   "execution_count": 14,
   "metadata": {},
   "outputs": [
    {
     "name": "stdout",
     "output_type": "stream",
     "text": [
      "Generated Passwords:  ['6ZbYDp7RGi', 'UHZrPdwmUy', 'SJJJNVpLBC', 'XpkpUtFoa2', 'xFBBEOestR']\n"
     ]
    }
   ],
   "source": [
    "import random\n",
    "import string\n",
    "\n",
    "def generate_passwords(length, number_of_passwords):\n",
    "    passwords = []\n",
    "    for i in range(number_of_passwords):\n",
    "        password = ''.join(random.choices(string.ascii_letters + string.digits, k=length))\n",
    "        passwords.append(password)\n",
    "    return passwords\n",
    "\n",
    "length = int(input(\"Enter the length of the password: \"))\n",
    "number_of_passwords = int(input(\"Enter the number of passwords you want to generate: \"))\n",
    "passwords = generate_passwords(length, number_of_passwords)\n",
    "print(\"Generated Passwords: \", passwords)"
   ]
  },
  {
   "cell_type": "markdown",
   "metadata": {},
   "source": [
    "### Question 5"
   ]
  },
  {
   "cell_type": "code",
   "execution_count": null,
   "metadata": {},
   "outputs": [],
   "source": [
    "# Type Annotations are a way to specify the type of a variable, function, or class in Python. It is used to specify the type of the variable, function, or class so that it is easier to understand the code and to catch type errors. Type Annotations are not enforced by the Python interpreter, but they can be used by external tools to check the type correctness of the code. Type Annotations are written using the colon syntax, for example:\n",
    "def add(x: int, y: int) -> int:\n",
    "    return x + y"
   ]
  },
  {
   "cell_type": "markdown",
   "metadata": {},
   "source": [
    "### Question 6"
   ]
  },
  {
   "cell_type": "code",
   "execution_count": 3,
   "metadata": {},
   "outputs": [
    {
     "name": "stdout",
     "output_type": "stream",
     "text": [
      "saket occurs -> odd\n",
      "ankit occurs -> even\n",
      "['saket', 'ankit']\n",
      "['saket', 'ankit', 'aryan']\n"
     ]
    }
   ],
   "source": [
    "from collections import Counter\n",
    "\n",
    "StringList1 = []\n",
    "\n",
    "while True:\n",
    "    s = input(\"Enter a string: \")\n",
    "    if s == \"\":\n",
    "        break\n",
    "    StringList1.append(s)\n",
    "\n",
    "MStringList1 = []\n",
    "for i in range(len(StringList1)):\n",
    "    if StringList1[i] in StringList1[i+1:]:\n",
    "        MStringList1.append(StringList1[i])\n",
    "\n",
    "MStringList1 = list(set(MStringList1))\n",
    "\n",
    "counts = Counter(StringList1)\n",
    "\n",
    "for item in MStringList1:\n",
    "    occurrence_count = counts[item]\n",
    "    if occurrence_count % 2 == 0:\n",
    "        print(f\"{item} occurs -> even\")\n",
    "    else:\n",
    "        print(f\"{item} occurs -> odd\")\n",
    "n = len(StringList1)\n",
    "i = 0\n",
    "while True:\n",
    "    if i == n:\n",
    "        break\n",
    "    if StringList1[i] in StringList1[i+1:]:\n",
    "        del StringList1[i]\n",
    "        i -= 1\n",
    "        n -= 1\n",
    "    i += 1\n",
    "\n",
    "print(MStringList1)\n",
    "print(StringList1)"
   ]
  },
  {
   "cell_type": "markdown",
   "metadata": {},
   "source": []
  }
 ],
 "metadata": {
  "kernelspec": {
   "display_name": "Python 3",
   "language": "python",
   "name": "python3"
  },
  "language_info": {
   "codemirror_mode": {
    "name": "ipython",
    "version": 3
   },
   "file_extension": ".py",
   "mimetype": "text/x-python",
   "name": "python",
   "nbconvert_exporter": "python",
   "pygments_lexer": "ipython3",
   "version": "3.11.1"
  }
 },
 "nbformat": 4,
 "nbformat_minor": 2
}
